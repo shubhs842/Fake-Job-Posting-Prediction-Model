{
 "cells": [
  {
   "cell_type": "markdown",
   "id": "88f81bc4-dd3b-4fc6-9708-ba2df0b7cf09",
   "metadata": {},
   "source": [
    "# Import necessary libraries"
   ]
  },
  {
   "cell_type": "code",
   "execution_count": 76,
   "id": "b9ac1ca8-1c98-455a-9f96-b78c563fc4db",
   "metadata": {},
   "outputs": [],
   "source": [
    "import pandas as pd\n",
    "import numpy as np\n",
    "import matplotlib.pyplot as plt\n",
    "import seaborn as sns\n",
    "from sklearn.model_selection import train_test_split\n",
    "from sklearn.feature_extraction.text import TfidfVectorizer\n",
    "from sklearn.ensemble import RandomForestClassifier\n",
    "from sklearn.metrics import classification_report, confusion_matrix, accuracy_score, roc_auc_score, roc_curve\n",
    "from scipy.sparse import hstack\n",
    "from xgboost import XGBClassifier\n",
    "# import shap\n",
    "# from sklearn.inspection import permutation_importance\n",
    "# from sklearn.utils import resample"
   ]
  },
  {
   "cell_type": "markdown",
   "id": "1c954191-22b4-4341-9f31-c0cbff955294",
   "metadata": {},
   "source": [
    "# Load the dataset"
   ]
  },
  {
   "cell_type": "code",
   "execution_count": 12,
   "id": "0c267f6e-4c50-4d44-99ed-a0a60985007b",
   "metadata": {},
   "outputs": [],
   "source": [
    "data = pd.read_csv('fake_job_postings.csv')"
   ]
  },
  {
   "cell_type": "markdown",
   "id": "d00c9928-b466-4aa0-aa8e-c37ee3d89e2d",
   "metadata": {},
   "source": [
    "# Display basic information about the dataset"
   ]
  },
  {
   "cell_type": "code",
   "execution_count": 14,
   "id": "e692bcb0-2d23-479a-8c5c-1830811afbd9",
   "metadata": {},
   "outputs": [
    {
     "name": "stdout",
     "output_type": "stream",
     "text": [
      "<class 'pandas.core.frame.DataFrame'>\n",
      "RangeIndex: 17880 entries, 0 to 17879\n",
      "Data columns (total 18 columns):\n",
      " #   Column               Non-Null Count  Dtype \n",
      "---  ------               --------------  ----- \n",
      " 0   job_id               17880 non-null  int64 \n",
      " 1   title                17880 non-null  object\n",
      " 2   location             17880 non-null  object\n",
      " 3   department           6333 non-null   object\n",
      " 4   salary_range         2868 non-null   object\n",
      " 5   company_profile      14572 non-null  object\n",
      " 6   description          17879 non-null  object\n",
      " 7   requirements         15184 non-null  object\n",
      " 8   benefits             10668 non-null  object\n",
      " 9   telecommuting        17880 non-null  int64 \n",
      " 10  has_company_logo     17880 non-null  int64 \n",
      " 11  has_questions        17880 non-null  int64 \n",
      " 12  employment_type      14409 non-null  object\n",
      " 13  required_experience  10830 non-null  object\n",
      " 14  required_education   9775 non-null   object\n",
      " 15  industry             12977 non-null  object\n",
      " 16  function             11425 non-null  object\n",
      " 17  fraudulent           17880 non-null  int64 \n",
      "dtypes: int64(5), object(13)\n",
      "memory usage: 2.5+ MB\n",
      "None\n",
      "   job_id                                      title   location department  \\\n",
      "0       1                           Marketing Intern      Delhi  Marketing   \n",
      "1       2  Customer Service - Cloud Video Production     Mumbai    Success   \n",
      "2       3    Commissioning Machinery Assistant (CMA)     Bhopal        NaN   \n",
      "3       4          Account Executive - Washington DC  Bengeluru      Sales   \n",
      "4       5                        Bill Review Manager    Kolkata        NaN   \n",
      "\n",
      "  salary_range                                    company_profile  \\\n",
      "0          NaN  We're Food52, and we've created a groundbreaki...   \n",
      "1          NaN  90 Seconds, the worlds Cloud Video Production ...   \n",
      "2          NaN  Valor Services provides Workforce Solutions th...   \n",
      "3          NaN  Our passion for improving quality of life thro...   \n",
      "4          NaN  SpotSource Solutions LLC is a Global Human Cap...   \n",
      "\n",
      "                                         description  \\\n",
      "0  Food52, a fast-growing, James Beard Award-winn...   \n",
      "1  Organised - Focused - Vibrant - Awesome!Do you...   \n",
      "2  Our client, located in Houston, is actively se...   \n",
      "3  THE COMPANY: ESRI – Environmental Systems Rese...   \n",
      "4  JOB TITLE: Itemization Review ManagerLOCATION:...   \n",
      "\n",
      "                                        requirements  \\\n",
      "0  Experience with content management systems a m...   \n",
      "1  What we expect from you:Your key responsibilit...   \n",
      "2  Implement pre-commissioning and commissioning ...   \n",
      "3  EDUCATION: Bachelor’s or Master’s in GIS, busi...   \n",
      "4  QUALIFICATIONS:RN license in the State of Texa...   \n",
      "\n",
      "                                            benefits  telecommuting  \\\n",
      "0                                                NaN              0   \n",
      "1  What you will get from usThrough being part of...              0   \n",
      "2                                                NaN              0   \n",
      "3  Our culture is anything but corporate—we have ...              0   \n",
      "4                              Full Benefits Offered              0   \n",
      "\n",
      "   has_company_logo  has_questions employment_type required_experience  \\\n",
      "0                 1              0           Other          Internship   \n",
      "1                 1              0       Full-time      Not Applicable   \n",
      "2                 1              0             NaN                 NaN   \n",
      "3                 1              0       Full-time    Mid-Senior level   \n",
      "4                 1              1       Full-time    Mid-Senior level   \n",
      "\n",
      "  required_education                   industry              function  \\\n",
      "0                NaN                        NaN             Marketing   \n",
      "1                NaN  Marketing and Advertising      Customer Service   \n",
      "2                NaN                        NaN                   NaN   \n",
      "3  Bachelor's Degree          Computer Software                 Sales   \n",
      "4  Bachelor's Degree     Hospital & Health Care  Health Care Provider   \n",
      "\n",
      "   fraudulent  \n",
      "0           0  \n",
      "1           0  \n",
      "2           0  \n",
      "3           0  \n",
      "4           0  \n"
     ]
    }
   ],
   "source": [
    "print(data.info())\n",
    "print(data.head())"
   ]
  },
  {
   "cell_type": "markdown",
   "id": "aff75716-4fe8-4983-9079-343b663b0f45",
   "metadata": {},
   "source": [
    "# Handle missing values"
   ]
  },
  {
   "cell_type": "raw",
   "id": "13f767d2-1801-49d2-aa8b-e634b9b7be83",
   "metadata": {},
   "source": [
    "# Fill NaN values in text columns with an empty string"
   ]
  },
  {
   "cell_type": "code",
   "execution_count": 18,
   "id": "9ba9d4bc-dbaf-4319-9db9-c09f84e1910b",
   "metadata": {},
   "outputs": [],
   "source": [
    "data.fillna({'company_profile': '', 'description': '', 'requirements': '', 'benefits': ''}, inplace=True)"
   ]
  },
  {
   "cell_type": "raw",
   "id": "1f841b9c-fa9e-4f4f-afe8-9c2a9df7b01b",
   "metadata": {},
   "source": [
    "# Drop rows with missing target values (if any)"
   ]
  },
  {
   "cell_type": "code",
   "execution_count": 20,
   "id": "40f71163-1887-4956-a402-c5bcfc8c34c4",
   "metadata": {},
   "outputs": [],
   "source": [
    "data.dropna(subset=['fraudulent'], inplace=True)"
   ]
  },
  {
   "cell_type": "markdown",
   "id": "e327de53-9815-4f9f-9fda-a741bc7a5f0f",
   "metadata": {},
   "source": [
    "# Combine text-based features into a single feature for analysis"
   ]
  },
  {
   "cell_type": "code",
   "execution_count": 23,
   "id": "608c5122-d0db-4a10-a0d7-518cb12221a7",
   "metadata": {},
   "outputs": [],
   "source": [
    "data['combined_text'] = (data['company_profile'] + ' ' +\n",
    "                         data['description'] + ' ' +\n",
    "                         data['requirements'] + ' ' +\n",
    "                         data['benefits'])"
   ]
  },
  {
   "cell_type": "markdown",
   "id": "dda471da-5f3c-406b-9188-118d983a56ac",
   "metadata": {},
   "source": [
    "# Text preprocessing with TF-IDF Vectorization"
   ]
  },
  {
   "cell_type": "code",
   "execution_count": 26,
   "id": "796a56e0-3ac4-427c-a703-5f2df655f6c2",
   "metadata": {},
   "outputs": [],
   "source": [
    "tfidf = TfidfVectorizer(stop_words='english', max_features=5000)\n",
    "X_text_features = tfidf.fit_transform(data['combined_text'])"
   ]
  },
  {
   "cell_type": "markdown",
   "id": "976ab486-8d90-4f7d-add8-b2ea67c463d1",
   "metadata": {},
   "source": [
    "# Combine numerical and text-based features"
   ]
  },
  {
   "cell_type": "code",
   "execution_count": 28,
   "id": "24fef42c-7af4-425d-998b-63bc8986a266",
   "metadata": {},
   "outputs": [],
   "source": [
    "numerical_features = data[['telecommuting', 'has_company_logo', 'has_questions']]\n",
    "X = hstack((X_text_features, numerical_features))\n",
    "y = data['fraudulent']"
   ]
  },
  {
   "cell_type": "markdown",
   "id": "85df0c0f-9757-4c51-980b-f7f64958fa78",
   "metadata": {},
   "source": [
    "# Splitting the dataset into training and testing sets"
   ]
  },
  {
   "cell_type": "code",
   "execution_count": 30,
   "id": "f9397be3-f7cf-44ec-8071-07842ea22f73",
   "metadata": {},
   "outputs": [],
   "source": [
    "X_train, X_test, y_train, y_test = train_test_split(X, y, test_size=0.2, random_state=42)"
   ]
  },
  {
   "cell_type": "markdown",
   "id": "224cb617-662c-4210-b5c2-d96b1539601f",
   "metadata": {},
   "source": [
    "# Train a Random Forest Classifier"
   ]
  },
  {
   "cell_type": "code",
   "execution_count": 32,
   "id": "f5c67a34-3364-425e-9cbf-e9765db19c85",
   "metadata": {},
   "outputs": [
    {
     "data": {
      "text/html": [
       "<style>#sk-container-id-1 {color: black;background-color: white;}#sk-container-id-1 pre{padding: 0;}#sk-container-id-1 div.sk-toggleable {background-color: white;}#sk-container-id-1 label.sk-toggleable__label {cursor: pointer;display: block;width: 100%;margin-bottom: 0;padding: 0.3em;box-sizing: border-box;text-align: center;}#sk-container-id-1 label.sk-toggleable__label-arrow:before {content: \"▸\";float: left;margin-right: 0.25em;color: #696969;}#sk-container-id-1 label.sk-toggleable__label-arrow:hover:before {color: black;}#sk-container-id-1 div.sk-estimator:hover label.sk-toggleable__label-arrow:before {color: black;}#sk-container-id-1 div.sk-toggleable__content {max-height: 0;max-width: 0;overflow: hidden;text-align: left;background-color: #f0f8ff;}#sk-container-id-1 div.sk-toggleable__content pre {margin: 0.2em;color: black;border-radius: 0.25em;background-color: #f0f8ff;}#sk-container-id-1 input.sk-toggleable__control:checked~div.sk-toggleable__content {max-height: 200px;max-width: 100%;overflow: auto;}#sk-container-id-1 input.sk-toggleable__control:checked~label.sk-toggleable__label-arrow:before {content: \"▾\";}#sk-container-id-1 div.sk-estimator input.sk-toggleable__control:checked~label.sk-toggleable__label {background-color: #d4ebff;}#sk-container-id-1 div.sk-label input.sk-toggleable__control:checked~label.sk-toggleable__label {background-color: #d4ebff;}#sk-container-id-1 input.sk-hidden--visually {border: 0;clip: rect(1px 1px 1px 1px);clip: rect(1px, 1px, 1px, 1px);height: 1px;margin: -1px;overflow: hidden;padding: 0;position: absolute;width: 1px;}#sk-container-id-1 div.sk-estimator {font-family: monospace;background-color: #f0f8ff;border: 1px dotted black;border-radius: 0.25em;box-sizing: border-box;margin-bottom: 0.5em;}#sk-container-id-1 div.sk-estimator:hover {background-color: #d4ebff;}#sk-container-id-1 div.sk-parallel-item::after {content: \"\";width: 100%;border-bottom: 1px solid gray;flex-grow: 1;}#sk-container-id-1 div.sk-label:hover label.sk-toggleable__label {background-color: #d4ebff;}#sk-container-id-1 div.sk-serial::before {content: \"\";position: absolute;border-left: 1px solid gray;box-sizing: border-box;top: 0;bottom: 0;left: 50%;z-index: 0;}#sk-container-id-1 div.sk-serial {display: flex;flex-direction: column;align-items: center;background-color: white;padding-right: 0.2em;padding-left: 0.2em;position: relative;}#sk-container-id-1 div.sk-item {position: relative;z-index: 1;}#sk-container-id-1 div.sk-parallel {display: flex;align-items: stretch;justify-content: center;background-color: white;position: relative;}#sk-container-id-1 div.sk-item::before, #sk-container-id-1 div.sk-parallel-item::before {content: \"\";position: absolute;border-left: 1px solid gray;box-sizing: border-box;top: 0;bottom: 0;left: 50%;z-index: -1;}#sk-container-id-1 div.sk-parallel-item {display: flex;flex-direction: column;z-index: 1;position: relative;background-color: white;}#sk-container-id-1 div.sk-parallel-item:first-child::after {align-self: flex-end;width: 50%;}#sk-container-id-1 div.sk-parallel-item:last-child::after {align-self: flex-start;width: 50%;}#sk-container-id-1 div.sk-parallel-item:only-child::after {width: 0;}#sk-container-id-1 div.sk-dashed-wrapped {border: 1px dashed gray;margin: 0 0.4em 0.5em 0.4em;box-sizing: border-box;padding-bottom: 0.4em;background-color: white;}#sk-container-id-1 div.sk-label label {font-family: monospace;font-weight: bold;display: inline-block;line-height: 1.2em;}#sk-container-id-1 div.sk-label-container {text-align: center;}#sk-container-id-1 div.sk-container {/* jupyter's `normalize.less` sets `[hidden] { display: none; }` but bootstrap.min.css set `[hidden] { display: none !important; }` so we also need the `!important` here to be able to override the default hidden behavior on the sphinx rendered scikit-learn.org. See: https://github.com/scikit-learn/scikit-learn/issues/21755 */display: inline-block !important;position: relative;}#sk-container-id-1 div.sk-text-repr-fallback {display: none;}</style><div id=\"sk-container-id-1\" class=\"sk-top-container\"><div class=\"sk-text-repr-fallback\"><pre>RandomForestClassifier(random_state=42)</pre><b>In a Jupyter environment, please rerun this cell to show the HTML representation or trust the notebook. <br />On GitHub, the HTML representation is unable to render, please try loading this page with nbviewer.org.</b></div><div class=\"sk-container\" hidden><div class=\"sk-item\"><div class=\"sk-estimator sk-toggleable\"><input class=\"sk-toggleable__control sk-hidden--visually\" id=\"sk-estimator-id-1\" type=\"checkbox\" checked><label for=\"sk-estimator-id-1\" class=\"sk-toggleable__label sk-toggleable__label-arrow\">RandomForestClassifier</label><div class=\"sk-toggleable__content\"><pre>RandomForestClassifier(random_state=42)</pre></div></div></div></div></div>"
      ],
      "text/plain": [
       "RandomForestClassifier(random_state=42)"
      ]
     },
     "execution_count": 32,
     "metadata": {},
     "output_type": "execute_result"
    }
   ],
   "source": [
    "clf_rf = RandomForestClassifier(n_estimators=100, random_state=42)\n",
    "clf_rf.fit(X_train, y_train)"
   ]
  },
  {
   "cell_type": "markdown",
   "id": "e6b3411d-3f1a-4965-8123-28ce05c39d56",
   "metadata": {},
   "source": [
    "# Making predictions using Random Forest"
   ]
  },
  {
   "cell_type": "code",
   "execution_count": 37,
   "id": "85afc9ec-8d21-4922-bd52-db1f49b7acde",
   "metadata": {},
   "outputs": [],
   "source": [
    "y_pred_rf = clf_rf.predict(X_test)\n",
    "y_prob_rf = clf_rf.predict_proba(X_test)[:, 1]"
   ]
  },
  {
   "cell_type": "markdown",
   "id": "2eed2e8a-0852-416a-a2a8-a92f21971ac2",
   "metadata": {},
   "source": [
    "# Evaluating the Random Forest model"
   ]
  },
  {
   "cell_type": "code",
   "execution_count": 39,
   "id": "eb7f59b8-a3d6-4ae8-9f7a-cd077dd3cff1",
   "metadata": {},
   "outputs": [
    {
     "name": "stdout",
     "output_type": "stream",
     "text": [
      "Random Forest Accuracy: 0.98\n",
      "Random Forest ROC-AUC: 0.98\n",
      "Confusion Matrix (Random Forest):\n",
      "[[3395    0]\n",
      " [  69  112]]\n",
      "Classification Report (Random Forest):\n",
      "              precision    recall  f1-score   support\n",
      "\n",
      "           0       0.98      1.00      0.99      3395\n",
      "           1       1.00      0.62      0.76       181\n",
      "\n",
      "    accuracy                           0.98      3576\n",
      "   macro avg       0.99      0.81      0.88      3576\n",
      "weighted avg       0.98      0.98      0.98      3576\n",
      "\n"
     ]
    }
   ],
   "source": [
    "accuracy_rf = accuracy_score(y_test, y_pred_rf)\n",
    "roc_auc_rf = roc_auc_score(y_test, y_prob_rf)\n",
    "print(f\"Random Forest Accuracy: {accuracy_rf:.2f}\")\n",
    "print(f\"Random Forest ROC-AUC: {roc_auc_rf:.2f}\")\n",
    "print(\"Confusion Matrix (Random Forest):\")\n",
    "print(confusion_matrix(y_test, y_pred_rf))\n",
    "print(\"Classification Report (Random Forest):\")\n",
    "print(classification_report(y_test, y_pred_rf))"
   ]
  },
  {
   "cell_type": "markdown",
   "id": "4a8e9c8d-8cf3-4e61-af5f-319cef2f6b10",
   "metadata": {},
   "source": [
    "# Train an XGBoost Classifier"
   ]
  },
  {
   "cell_type": "code",
   "execution_count": 41,
   "id": "8fa595e3-89ec-4133-a528-04314ff1929c",
   "metadata": {},
   "outputs": [
    {
     "name": "stderr",
     "output_type": "stream",
     "text": [
      "D:\\anaconda\\Lib\\site-packages\\xgboost\\core.py:158: UserWarning: [12:04:32] WARNING: C:\\buildkite-agent\\builds\\buildkite-windows-cpu-autoscaling-group-i-0c55ff5f71b100e98-1\\xgboost\\xgboost-ci-windows\\src\\learner.cc:740: \n",
      "Parameters: { \"use_label_encoder\" } are not used.\n",
      "\n",
      "  warnings.warn(smsg, UserWarning)\n"
     ]
    },
    {
     "data": {
      "text/html": [
       "<style>#sk-container-id-2 {color: black;background-color: white;}#sk-container-id-2 pre{padding: 0;}#sk-container-id-2 div.sk-toggleable {background-color: white;}#sk-container-id-2 label.sk-toggleable__label {cursor: pointer;display: block;width: 100%;margin-bottom: 0;padding: 0.3em;box-sizing: border-box;text-align: center;}#sk-container-id-2 label.sk-toggleable__label-arrow:before {content: \"▸\";float: left;margin-right: 0.25em;color: #696969;}#sk-container-id-2 label.sk-toggleable__label-arrow:hover:before {color: black;}#sk-container-id-2 div.sk-estimator:hover label.sk-toggleable__label-arrow:before {color: black;}#sk-container-id-2 div.sk-toggleable__content {max-height: 0;max-width: 0;overflow: hidden;text-align: left;background-color: #f0f8ff;}#sk-container-id-2 div.sk-toggleable__content pre {margin: 0.2em;color: black;border-radius: 0.25em;background-color: #f0f8ff;}#sk-container-id-2 input.sk-toggleable__control:checked~div.sk-toggleable__content {max-height: 200px;max-width: 100%;overflow: auto;}#sk-container-id-2 input.sk-toggleable__control:checked~label.sk-toggleable__label-arrow:before {content: \"▾\";}#sk-container-id-2 div.sk-estimator input.sk-toggleable__control:checked~label.sk-toggleable__label {background-color: #d4ebff;}#sk-container-id-2 div.sk-label input.sk-toggleable__control:checked~label.sk-toggleable__label {background-color: #d4ebff;}#sk-container-id-2 input.sk-hidden--visually {border: 0;clip: rect(1px 1px 1px 1px);clip: rect(1px, 1px, 1px, 1px);height: 1px;margin: -1px;overflow: hidden;padding: 0;position: absolute;width: 1px;}#sk-container-id-2 div.sk-estimator {font-family: monospace;background-color: #f0f8ff;border: 1px dotted black;border-radius: 0.25em;box-sizing: border-box;margin-bottom: 0.5em;}#sk-container-id-2 div.sk-estimator:hover {background-color: #d4ebff;}#sk-container-id-2 div.sk-parallel-item::after {content: \"\";width: 100%;border-bottom: 1px solid gray;flex-grow: 1;}#sk-container-id-2 div.sk-label:hover label.sk-toggleable__label {background-color: #d4ebff;}#sk-container-id-2 div.sk-serial::before {content: \"\";position: absolute;border-left: 1px solid gray;box-sizing: border-box;top: 0;bottom: 0;left: 50%;z-index: 0;}#sk-container-id-2 div.sk-serial {display: flex;flex-direction: column;align-items: center;background-color: white;padding-right: 0.2em;padding-left: 0.2em;position: relative;}#sk-container-id-2 div.sk-item {position: relative;z-index: 1;}#sk-container-id-2 div.sk-parallel {display: flex;align-items: stretch;justify-content: center;background-color: white;position: relative;}#sk-container-id-2 div.sk-item::before, #sk-container-id-2 div.sk-parallel-item::before {content: \"\";position: absolute;border-left: 1px solid gray;box-sizing: border-box;top: 0;bottom: 0;left: 50%;z-index: -1;}#sk-container-id-2 div.sk-parallel-item {display: flex;flex-direction: column;z-index: 1;position: relative;background-color: white;}#sk-container-id-2 div.sk-parallel-item:first-child::after {align-self: flex-end;width: 50%;}#sk-container-id-2 div.sk-parallel-item:last-child::after {align-self: flex-start;width: 50%;}#sk-container-id-2 div.sk-parallel-item:only-child::after {width: 0;}#sk-container-id-2 div.sk-dashed-wrapped {border: 1px dashed gray;margin: 0 0.4em 0.5em 0.4em;box-sizing: border-box;padding-bottom: 0.4em;background-color: white;}#sk-container-id-2 div.sk-label label {font-family: monospace;font-weight: bold;display: inline-block;line-height: 1.2em;}#sk-container-id-2 div.sk-label-container {text-align: center;}#sk-container-id-2 div.sk-container {/* jupyter's `normalize.less` sets `[hidden] { display: none; }` but bootstrap.min.css set `[hidden] { display: none !important; }` so we also need the `!important` here to be able to override the default hidden behavior on the sphinx rendered scikit-learn.org. See: https://github.com/scikit-learn/scikit-learn/issues/21755 */display: inline-block !important;position: relative;}#sk-container-id-2 div.sk-text-repr-fallback {display: none;}</style><div id=\"sk-container-id-2\" class=\"sk-top-container\"><div class=\"sk-text-repr-fallback\"><pre>XGBClassifier(base_score=None, booster=None, callbacks=None,\n",
       "              colsample_bylevel=None, colsample_bynode=None,\n",
       "              colsample_bytree=None, device=None, early_stopping_rounds=None,\n",
       "              enable_categorical=False, eval_metric=&#x27;logloss&#x27;,\n",
       "              feature_types=None, gamma=None, grow_policy=None,\n",
       "              importance_type=None, interaction_constraints=None,\n",
       "              learning_rate=None, max_bin=None, max_cat_threshold=None,\n",
       "              max_cat_to_onehot=None, max_delta_step=None, max_depth=None,\n",
       "              max_leaves=None, min_child_weight=None, missing=nan,\n",
       "              monotone_constraints=None, multi_strategy=None, n_estimators=None,\n",
       "              n_jobs=None, num_parallel_tree=None, random_state=42, ...)</pre><b>In a Jupyter environment, please rerun this cell to show the HTML representation or trust the notebook. <br />On GitHub, the HTML representation is unable to render, please try loading this page with nbviewer.org.</b></div><div class=\"sk-container\" hidden><div class=\"sk-item\"><div class=\"sk-estimator sk-toggleable\"><input class=\"sk-toggleable__control sk-hidden--visually\" id=\"sk-estimator-id-2\" type=\"checkbox\" checked><label for=\"sk-estimator-id-2\" class=\"sk-toggleable__label sk-toggleable__label-arrow\">XGBClassifier</label><div class=\"sk-toggleable__content\"><pre>XGBClassifier(base_score=None, booster=None, callbacks=None,\n",
       "              colsample_bylevel=None, colsample_bynode=None,\n",
       "              colsample_bytree=None, device=None, early_stopping_rounds=None,\n",
       "              enable_categorical=False, eval_metric=&#x27;logloss&#x27;,\n",
       "              feature_types=None, gamma=None, grow_policy=None,\n",
       "              importance_type=None, interaction_constraints=None,\n",
       "              learning_rate=None, max_bin=None, max_cat_threshold=None,\n",
       "              max_cat_to_onehot=None, max_delta_step=None, max_depth=None,\n",
       "              max_leaves=None, min_child_weight=None, missing=nan,\n",
       "              monotone_constraints=None, multi_strategy=None, n_estimators=None,\n",
       "              n_jobs=None, num_parallel_tree=None, random_state=42, ...)</pre></div></div></div></div></div>"
      ],
      "text/plain": [
       "XGBClassifier(base_score=None, booster=None, callbacks=None,\n",
       "              colsample_bylevel=None, colsample_bynode=None,\n",
       "              colsample_bytree=None, device=None, early_stopping_rounds=None,\n",
       "              enable_categorical=False, eval_metric='logloss',\n",
       "              feature_types=None, gamma=None, grow_policy=None,\n",
       "              importance_type=None, interaction_constraints=None,\n",
       "              learning_rate=None, max_bin=None, max_cat_threshold=None,\n",
       "              max_cat_to_onehot=None, max_delta_step=None, max_depth=None,\n",
       "              max_leaves=None, min_child_weight=None, missing=nan,\n",
       "              monotone_constraints=None, multi_strategy=None, n_estimators=None,\n",
       "              n_jobs=None, num_parallel_tree=None, random_state=42, ...)"
      ]
     },
     "execution_count": 41,
     "metadata": {},
     "output_type": "execute_result"
    }
   ],
   "source": [
    "clf_xgb = XGBClassifier(use_label_encoder=False, eval_metric='logloss', random_state=42)\n",
    "clf_xgb.fit(X_train, y_train)"
   ]
  },
  {
   "cell_type": "markdown",
   "id": "c102f6b0-48a7-4ff0-a8c6-cba14e3bbae2",
   "metadata": {},
   "source": [
    "# Making predictions using XGBoost"
   ]
  },
  {
   "cell_type": "code",
   "execution_count": 43,
   "id": "f466f621-d086-49ee-9444-83147ad5c312",
   "metadata": {},
   "outputs": [],
   "source": [
    "y_pred_xgb = clf_xgb.predict(X_test)\n",
    "y_prob_xgb = clf_xgb.predict_proba(X_test)[:, 1]"
   ]
  },
  {
   "cell_type": "markdown",
   "id": "b97ee231-eb3a-4fb7-808b-f3f54199d6a6",
   "metadata": {},
   "source": [
    "# Evaluating the XGBoost model"
   ]
  },
  {
   "cell_type": "code",
   "execution_count": 45,
   "id": "0312d515-c71c-4f5b-a17f-74ff2c23ec84",
   "metadata": {},
   "outputs": [
    {
     "name": "stdout",
     "output_type": "stream",
     "text": [
      "XGBoost Accuracy: 0.98\n",
      "XGBoost ROC-AUC: 0.98\n",
      "Confusion Matrix (XGBoost):\n",
      "[[3392    3]\n",
      " [  56  125]]\n",
      "Classification Report (XGBoost):\n",
      "              precision    recall  f1-score   support\n",
      "\n",
      "           0       0.98      1.00      0.99      3395\n",
      "           1       0.98      0.69      0.81       181\n",
      "\n",
      "    accuracy                           0.98      3576\n",
      "   macro avg       0.98      0.84      0.90      3576\n",
      "weighted avg       0.98      0.98      0.98      3576\n",
      "\n"
     ]
    }
   ],
   "source": [
    "accuracy_xgb = accuracy_score(y_test, y_pred_xgb)\n",
    "roc_auc_xgb = roc_auc_score(y_test, y_prob_xgb)\n",
    "print(f\"XGBoost Accuracy: {accuracy_xgb:.2f}\")\n",
    "print(f\"XGBoost ROC-AUC: {roc_auc_xgb:.2f}\")\n",
    "print(\"Confusion Matrix (XGBoost):\")\n",
    "print(confusion_matrix(y_test, y_pred_xgb))\n",
    "print(\"Classification Report (XGBoost):\")\n",
    "print(classification_report(y_test, y_pred_xgb))"
   ]
  },
  {
   "cell_type": "markdown",
   "id": "792886af-2077-41f1-94fd-05d4c48c4bd2",
   "metadata": {},
   "source": [
    "# Plotting ROC Curve"
   ]
  },
  {
   "cell_type": "code",
   "execution_count": 47,
   "id": "93c2578a-d410-4506-87a9-80ae957646dc",
   "metadata": {},
   "outputs": [
    {
     "data": {
      "image/png": "[encoded data removed]",
      "text/plain": [
       "<Figure size 1000x600 with 1 Axes>"
      ]
     },
     "metadata": {},
     "output_type": "display_data"
    }
   ],
   "source": [
    "plt.figure(figsize=(10, 6))\n",
    "rf_fpr, rf_tpr, _ = roc_curve(y_test, y_prob_rf)\n",
    "xgb_fpr, xgb_tpr, _ = roc_curve(y_test, y_prob_xgb)\n",
    "plt.plot(rf_fpr, rf_tpr, label=f\"Random Forest (AUC = {roc_auc_rf:.2f})\")\n",
    "plt.plot(xgb_fpr, xgb_tpr, label=f\"XGBoost (AUC = {roc_auc_xgb:.2f})\")\n",
    "plt.xlabel(\"False Positive Rate\")\n",
    "plt.ylabel(\"True Positive Rate\")\n",
    "plt.title(\"ROC Curve Comparison\")\n",
    "plt.legend()\n",
    "plt.grid()\n",
    "plt.show()"
   ]
  },
  {
   "cell_type": "markdown",
   "id": "303f0d9f-39a9-40b5-9638-f838e91e2544",
   "metadata": {},
   "source": [
    "# Feature Importance using Random Forest's built-in feature_importances"
   ]
  },
  {
   "cell_type": "code",
   "execution_count": 62,
   "id": "fac04453-c156-4a90-baee-31336aee0cff",
   "metadata": {},
   "outputs": [],
   "source": [
    "importances = clf_rf.feature_importances_\n",
    "sorted_idx = np.argsort(importances)"
   ]
  },
  {
   "cell_type": "markdown",
   "id": "26f56f03-39ba-42be-91cc-67abec8f5ee7",
   "metadata": {},
   "source": [
    "# Plotting feature importances"
   ]
  },
  {
   "cell_type": "code",
   "execution_count": 65,
   "id": "b52613ce-8d58-42ee-90db-a310f670498e",
   "metadata": {},
   "outputs": [
    {
     "data": {
      "image/png": "[encoded data removed]",
      "text/plain": [
       "<Figure size 1000x600 with 1 Axes>"
      ]
     },
     "metadata": {},
     "output_type": "display_data"
    }
   ],
   "source": [
    "plt.figure(figsize=(10, 6))\n",
    "plt.barh(np.array(['Feature ' + str(i) for i in sorted_idx[-10:]]), importances[sorted_idx[-10:]])\n",
    "plt.xlabel(\"Feature Importance (Gini)\")\n",
    "plt.title(\"Top 10 Feature Importances from Random Forest\")\n",
    "plt.show()"
   ]
  },
  {
   "cell_type": "markdown",
   "id": "b0cb0409-e5d6-489c-8f38-bae5a09f873e",
   "metadata": {},
   "source": [
    "# comparison results"
   ]
  },
  {
   "cell_type": "code",
   "execution_count": 97,
   "id": "bcde7173-fc6b-4ee6-8612-92cd23fe8493",
   "metadata": {},
   "outputs": [
    {
     "name": "stdout",
     "output_type": "stream",
     "text": [
      "\n",
      "--- Model Comparison ---\n",
      "\n",
      "🏆 Random Forest achieved an impressive accuracy of 98.07% with an ROC-AUC of 0.98. \n",
      "   It effectively balances recall and precision, making it a robust choice.\n",
      "🚀 XGBoost outperformed with a stellar accuracy of 98.35% and an ROC-AUC of 0.98. \n",
      "   Its advanced optimization capabilities shine in handling structured data.\n",
      "🔍 Insights:\n",
      "- Random Forest: Best suited for a quick, reliable baseline.\n",
      "- XGBoost: Excels with fine-tuning and complex data relationships.\n"
     ]
    }
   ],
   "source": [
    "print(\"\\n--- Model Comparison ---\\n\")\n",
    "print(f\"🏆 Random Forest achieved an impressive accuracy of {accuracy_rf * 100:.2f}% with an ROC-AUC of {roc_auc_rf:.2f}. \\n   It effectively balances recall and precision, making it a robust choice.\")\n",
    "print(f\"🚀 XGBoost outperformed with a stellar accuracy of {accuracy_xgb * 100:.2f}% and an ROC-AUC of {roc_auc_xgb:.2f}. \\n   Its advanced optimization capabilities shine in handling structured data.\")\n",
    "\n",
    "print(\"🔍 Insights:\")\n",
    "print(\"- Random Forest: Best suited for a quick, reliable baseline.\")\n",
    "print(\"- XGBoost: Excels with fine-tuning and complex data relationships.\")"
   ]
  },
  {
   "cell_type": "code",
   "execution_count": null,
   "id": "6e9a61c5-49d2-4c5c-a548-0c33b22c13a2",
   "metadata": {},
   "outputs": [],
   "source": []
  }
 ],
 "metadata": {
  "kernelspec": {
   "display_name": "Python 3 (ipykernel)",
   "language": "python",
   "name": "python3"
  },
  "language_info": {
   "codemirror_mode": {
    "name": "ipython",
    "version": 3
   },
   "file_extension": ".py",
   "mimetype": "text/x-python",
   "name": "python",
   "nbconvert_exporter": "python",
   "pygments_lexer": "ipython3",
   "version": "3.11.5"
  }
 },
 "nbformat": 4,
 "nbformat_minor": 5
}
